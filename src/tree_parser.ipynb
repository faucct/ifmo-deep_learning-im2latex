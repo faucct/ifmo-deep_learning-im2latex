{
 "cells": [
  {
   "cell_type": "code",
   "execution_count": null,
   "metadata": {
    "collapsed": true,
    "pycharm": {
     "is_executing": false
    }
   },
   "outputs": [],
   "source": [
    "from src.tree_parser import *\n",
    "\n",
    "with open(\"../tmp/im2latex_formulas.tree\", \"rb\") as lines:\n",
    "    i = 0\n",
    "    for tree in iter_tree_lines(lines):\n",
    "        try:\n",
    "            if tree:\n",
    "                list(iter_elements(tree))\n",
    "                i += 1\n",
    "        except:\n",
    "            print(b''.join(tree).decode())\n",
    "            raise\n",
    "        \n",
    "i"
   ]
  },
  {
   "cell_type": "code",
   "execution_count": null,
   "outputs": [],
   "source": [
    "\n"
   ],
   "metadata": {
    "collapsed": false,
    "pycharm": {
     "name": "#%%\n",
     "is_executing": false
    }
   }
  }
 ],
 "metadata": {
  "kernelspec": {
   "name": "pycharm-3ef9f45c",
   "language": "python",
   "display_name": "PyCharm (ifmo-machine_learning)"
  },
  "language_info": {
   "codemirror_mode": {
    "name": "ipython",
    "version": 2
   },
   "file_extension": ".py",
   "mimetype": "text/x-python",
   "name": "python",
   "nbconvert_exporter": "python",
   "pygments_lexer": "ipython2",
   "version": "2.7.6"
  },
  "pycharm": {
   "stem_cell": {
    "cell_type": "raw",
    "source": [],
    "metadata": {
     "collapsed": false
    }
   }
  }
 },
 "nbformat": 4,
 "nbformat_minor": 0
}