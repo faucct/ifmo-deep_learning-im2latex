{
 "cells": [
  {
   "cell_type": "code",
   "execution_count": null,
   "metadata": {
    "collapsed": true,
    "pycharm": {
     "is_executing": false
    }
   },
   "outputs": [],
   "source": [
    "from collections import Counter\n",
    "from functools import reduce\n",
    "\n",
    "from src.tree_parser import *\n",
    "from src.tree_sequencing import *\n",
    "\n",
    "def iter_trees():\n",
    "    with open(\"../tmp/im2latex_formulas.tree\", \"rb\") as lines:\n",
    "        for elements in iter_tree_lines(lines):\n",
    "            try:\n",
    "                yield list(iter_elements(elements)) if elements else []\n",
    "            except:\n",
    "                print(b''.join(elements).decode())\n",
    "                raise\n",
    "\n",
    "\n",
    "class TreeMatcherVisitor(Visitor):\n",
    "    def __init__(self, with_children_filter=lambda _: True, symbol_filter=lambda _: True):\n",
    "        self.is_ok = True\n",
    "        self.with_children_filter = with_children_filter\n",
    "        self.symbol_filter = symbol_filter\n",
    "\n",
    "    def visit_with_children(self, with_children):\n",
    "        if not self.with_children_filter(with_children.header):\n",
    "            self.is_ok = False\n",
    "\n",
    "    def visit_symbol(self, symbol):\n",
    "        if not self.symbol_filter(symbol.symbol):\n",
    "            self.is_ok = False\n",
    "            \n",
    "def tree_matches(elements, **kwargs):\n",
    "    visitor = TreeMatcherVisitor(**kwargs)\n",
    "    AllVisitor(visitor).visit_list(elements)\n",
    "    return visitor.is_ok\n",
    "\n",
    "class TotalAndDocumentFrequencyCounter:\n",
    "    def __init__(self):\n",
    "        self.total = Counter()\n",
    "        self.document_frequency = Counter()\n",
    "\n",
    "    def __call__(self, key, count):\n",
    "        self.total[key] += count\n",
    "        self.document_frequency[key] += 1\n",
    "        return self\n",
    "\n",
    "class StripInvisibleVisitor(Visitor):\n",
    "    def visit_symbol(self, symbol):\n",
    "        return symbol_is_invisible(symbol.symbol)\n",
    "\n",
    "def strip_invisible(elements):\n",
    "    return [\n",
    "        element\n",
    "        for element in elements\n",
    "        if not element.visit(StripInvisibleVisitor())\n",
    "    ]"
   ]
  },
  {
   "cell_type": "code",
   "execution_count": null,
   "outputs": [],
   "source": [
    "with open(\"../tmp/im2latex_formulas.lst\", \"rb\") as formulas:\n",
    "    formulas_number = 0\n",
    "    for _ in formulas:\n",
    "        formulas_number += 1\n",
    "formulas_number"
   ],
   "metadata": {
    "collapsed": false,
    "pycharm": {
     "name": "#%%\n",
     "is_executing": false
    }
   }
  },
  {
   "cell_type": "code",
   "execution_count": null,
   "outputs": [],
   "source": [
    "def symbol_is_invisible(symbol):\n",
    "    return\\\n",
    "        symbol.startswith(b'\\\\write1{\\\\newlabel{')\\\n",
    "            or symbol in [\n",
    "                b'\\\\kern 0.0\\n',\n",
    "                b'\\\\kern0.0\\n',\n",
    "                b'\\\\glue 0.0\\n',\n",
    "            ]\n",
    "\n",
    "def default_with_children_filter(header):\n",
    "    if header.startswith((b'\\\\vbox', b'\\\\hbox')):\n",
    "        return False\n",
    "    return True\n",
    "\n",
    "            \n",
    "def default_symbol_filter(symbol):\n",
    "    if symbol_is_invisible(symbol):\n",
    "        return False\n",
    "    if symbol.startswith((b'\\\\hbox', b'\\\\vbox', b'\\\\kern')):\n",
    "        return False\n",
    "    elif symbol.startswith(b'\\\\glue') and symbol not in [\n",
    "            b'\\\\glue(\\\\mskip) 3.0mu\\n',\n",
    "            b'\\\\glue 3.33333 plus 1.66666 minus 1.11111\\n',\n",
    "            b'\\\\glue(\\\\mskip) 5.0mu plus 5.0mu\\n',\n",
    "            b'\\\\glue 10.00002\\n',\n",
    "            b'\\\\glue 20.00003\\n',\n",
    "            b'\\\\glue(\\\\mskip) -3.0mu\\n',\n",
    "            b'\\\\glue(\\\\mskip) 4.0mu plus 2.0mu minus 4.0mu\\n',\n",
    "            b'\\\\glue 0.0 plus 1.0fil\\n',\n",
    "            b'\\\\glue 28.45274\\n',\n",
    "            b'\\\\glue 14.22636\\n',\n",
    "            b'\\\\glue 56.9055\\n',\n",
    "    ]:\n",
    "        return False\n",
    "    return True\n",
    "\n",
    "def base_tree_filter(tree):\n",
    "    return tree_matches(\n",
    "        tree,\n",
    "        with_children_filter=default_with_children_filter,\n",
    "        symbol_filter=default_symbol_filter,\n",
    "    )"
   ],
   "metadata": {
    "collapsed": false,
    "pycharm": {
     "name": "#%%\n",
     "is_executing": false
    }
   }
  },
  {
   "cell_type": "code",
   "execution_count": null,
   "outputs": [],
   "source": [
    "sum(1 for elements in iter_trees() if base_tree_filter(strip_invisible(elements)))"
   ],
   "metadata": {
    "collapsed": false,
    "pycharm": {
     "name": "#%%\n",
     "is_executing": false
    }
   }
  },
  {
   "cell_type": "code",
   "execution_count": null,
   "outputs": [],
   "source": [
    "class SymbolCounterVisitor(Visitor):\n",
    "    def __init__(self):\n",
    "        self.counter = Counter()\n",
    "\n",
    "    def visit_symbol(self, symbol):\n",
    "        self.counter[symbol.symbol] += 1\n",
    "\n",
    "def count_symbols(counter, elements):\n",
    "    visitor = SymbolCounterVisitor()\n",
    "    AllVisitor(visitor).visit_list(elements)\n",
    "    for key, count in visitor.counter.items():\n",
    "        counter(key, count)\n",
    "    return counter\n",
    "\n",
    "class FrequencyFilter:\n",
    "    def __init__(self, counter, limit):\n",
    "        self.counter = counter\n",
    "        self.limit = limit\n",
    "    \n",
    "    def __call__(self, key):\n",
    "        return self.counter[key] > self.limit"
   ],
   "metadata": {
    "collapsed": false,
    "pycharm": {
     "name": "#%%\n",
     "is_executing": false
    }
   }
  },
  {
   "cell_type": "code",
   "execution_count": null,
   "outputs": [],
   "source": [
    "symbol_counter = reduce(count_symbols, map(strip_invisible, iter_trees()), TotalAndDocumentFrequencyCounter())"
   ],
   "metadata": {
    "collapsed": false,
    "pycharm": {
     "name": "#%%\n",
     "is_executing": false
    }
   }
  },
  {
   "cell_type": "code",
   "execution_count": null,
   "outputs": [],
   "source": [
    "sorted(map(list, map(reversed, symbol_counter.document_frequency.items())), reverse=True)"
   ],
   "metadata": {
    "collapsed": false,
    "pycharm": {
     "name": "#%%\n",
     "is_executing": false
    }
   }
  },
  {
   "cell_type": "code",
   "execution_count": null,
   "outputs": [],
   "source": [
    "sum(\n",
    "    1 for elements in map(strip_invisible, iter_trees())\n",
    "    if base_tree_filter(elements) and tree_matches(\n",
    "        elements,\n",
    "        symbol_filter=FrequencyFilter(symbol_counter.document_frequency, 1000),\n",
    "    )\n",
    ")"
   ],
   "metadata": {
    "collapsed": false,
    "pycharm": {
     "name": "#%%\n",
     "is_executing": false
    }
   }
  },
  {
   "cell_type": "code",
   "execution_count": null,
   "outputs": [],
   "source": [
    "symbol_counter2 = reduce(\n",
    "    count_symbols,\n",
    "    [\n",
    "        elements\n",
    "        for elements in map(strip_invisible, iter_trees())\n",
    "        if base_tree_filter(elements)\n",
    "            and tree_matches(elements, symbol_filter=FrequencyFilter(symbol_counter.document_frequency, 1000))\n",
    "    ],\n",
    "    TotalAndDocumentFrequencyCounter(),\n",
    ")"
   ],
   "metadata": {
    "collapsed": false,
    "pycharm": {
     "name": "#%%\n",
     "is_executing": false
    }
   }
  },
  {
   "cell_type": "code",
   "execution_count": null,
   "outputs": [],
   "source": [
    "sorted(map(list, map(reversed, symbol_counter2.document_frequency.items())), reverse=True)"
   ],
   "metadata": {
    "collapsed": false,
    "pycharm": {
     "name": "#%%\n",
     "is_executing": false
    }
   }
  },
  {
   "cell_type": "code",
   "execution_count": null,
   "outputs": [],
   "source": [
    "for tree in iter_trees():\n",
    "    if base_tree_filter(tree) \\\n",
    "        and tree_matches(tree, symbol_filter=FrequencyFilter(symbol_counter.document_frequency, 1000)):\n",
    "        assert list(elements_from_sequence(elements_to_sequence(tree))) == tree"
   ],
   "metadata": {
    "collapsed": false,
    "pycharm": {
     "name": "#%%\n",
     "is_executing": false
    }
   }
  },
  {
   "cell_type": "code",
   "execution_count": null,
   "outputs": [],
   "source": [],
   "metadata": {
    "collapsed": false,
    "pycharm": {
     "name": "#%%\n",
     "is_executing": false
    }
   }
  }
 ],
 "metadata": {
  "kernelspec": {
   "name": "python3",
   "language": "python",
   "display_name": "Python 3"
  },
  "language_info": {
   "codemirror_mode": {
    "name": "ipython",
    "version": 2
   },
   "file_extension": ".py",
   "mimetype": "text/x-python",
   "name": "python",
   "nbconvert_exporter": "python",
   "pygments_lexer": "ipython2",
   "version": "2.7.6"
  },
  "pycharm": {
   "stem_cell": {
    "cell_type": "raw",
    "source": [],
    "metadata": {
     "collapsed": false
    }
   }
  }
 },
 "nbformat": 4,
 "nbformat_minor": 0
}