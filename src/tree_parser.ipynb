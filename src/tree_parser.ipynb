{
 "cells": [
  {
   "cell_type": "code",
   "execution_count": null,
   "metadata": {
    "collapsed": true,
    "pycharm": {
     "is_executing": false
    }
   },
   "outputs": [],
   "source": [
    "from collections import Counter\n",
    "\n",
    "from src.tree_parser import *\n",
    "\n",
    "def iter_trees():\n",
    "    with open(\"../tmp/im2latex_formulas.tree\", \"rb\") as lines:\n",
    "        for elements in iter_tree_lines(lines):\n",
    "            try:\n",
    "                yield list(iter_elements(elements)) if elements else []\n",
    "            except:\n",
    "                print(b''.join(elements))\n",
    "                raise\n"
   ]
  },
  {
   "cell_type": "code",
   "execution_count": null,
   "outputs": [],
   "source": [
    "with open(\"../tmp/im2latex_formulas.lst\", \"rb\") as formulas:\n",
    "    formulas_number = 0\n",
    "    for _ in formulas:\n",
    "        formulas_number += 1\n",
    "formulas_number"
   ],
   "metadata": {
    "collapsed": false,
    "pycharm": {
     "name": "#%%\n"
    }
   }
  },
  {
   "cell_type": "code",
   "execution_count": null,
   "outputs": [],
   "source": [
    "class IsOkVisitor(Visitor):\n",
    "    def __init__(self):\n",
    "        self.is_ok = True\n",
    "        \n",
    "    def visit_with_children(self, with_children):\n",
    "        if with_children.header.startswith((b'\\\\vbox', b'\\\\hbox')):\n",
    "            self.is_ok = False\n",
    "            \n",
    "def is_ok(elements):\n",
    "    visitor = IsOkVisitor()\n",
    "    AllVisitor(visitor).visit_list(elements)\n",
    "    return visitor.is_ok\n",
    "\n",
    "sum(1 for elements in iter_trees() if is_ok(elements))"
   ],
   "metadata": {
    "collapsed": false,
    "pycharm": {
     "name": "#%%\n",
     "is_executing": false
    }
   }
  }
 ],
 "metadata": {
  "kernelspec": {
   "name": "python3",
   "language": "python",
   "display_name": "Python 3"
  },
  "language_info": {
   "codemirror_mode": {
    "name": "ipython",
    "version": 2
   },
   "file_extension": ".py",
   "mimetype": "text/x-python",
   "name": "python",
   "nbconvert_exporter": "python",
   "pygments_lexer": "ipython2",
   "version": "2.7.6"
  },
  "pycharm": {
   "stem_cell": {
    "cell_type": "raw",
    "source": [],
    "metadata": {
     "collapsed": false
    }
   }
  }
 },
 "nbformat": 4,
 "nbformat_minor": 0
}